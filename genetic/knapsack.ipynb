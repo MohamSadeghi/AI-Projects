{
 "cells": [
  {
   "cell_type": "code",
   "execution_count": 15,
   "metadata": {},
   "outputs": [],
   "source": [
    "import random \n",
    "import csv"
   ]
  },
  {
   "cell_type": "code",
   "execution_count": 16,
   "metadata": {},
   "outputs": [],
   "source": [
    "CROSSOVER_PROBABILITY = 0.8\n",
    "MUTATION_PROBABILITY = 0.05\n",
    "CARRY_PERCENTAGE = 0.2\n",
    "POPULATION_SIZE = 100\n",
    "MULTI_START_COUNT = 10"
   ]
  },
  {
   "cell_type": "markdown",
   "metadata": {},
   "source": [
    "<h1>Part 0 : Read inputs from CSV file</h1>\n",
    "<p>it is look very simple. we just can use <b style=\"color:blue\">csv library</b> and its methods to extract first row of file from hole rows and save the others in list namsd snacks</p>"
   ]
  },
  {
   "cell_type": "code",
   "execution_count": 17,
   "metadata": {},
   "outputs": [
    {
     "name": "stdout",
     "output_type": "stream",
     "text": [
      "[['MazMaz', '10', '10'], ['Doogh-e-Abali', '15', '10'], ['Nani', '5', '5'], ['Jooj', '7', '15'], ['Hot-Dog', '20', '15'], ['Chips', '8', '6'], ['Nooshaba', '12', '8'], ['Shokolat', '6', '7'], ['Chocoroll', '9', '12'], ['Cookies', '11', '11'], ['Abnabat', '4', '4'], ['Adams-Khersi', '14', '9'], ['Popcorn', '16', '13'], ['Pastil', '3', '7'], ['Tordilla', '10', '9'], ['Masghati', '5', '6'], ['Ghottab', '7', '10'], ['Saghe-Talaei', '9', '11'], ['Choob-Shoor', '13', '12']]\n"
     ]
    },
    {
     "data": {
      "text/plain": [
       "19"
      ]
     },
     "execution_count": 17,
     "metadata": {},
     "output_type": "execute_result"
    }
   ],
   "source": [
    "snacks = []\n",
    "with open(\"snacks.csv\" , 'r') as file:\n",
    "    csvreader = csv.reader(file)\n",
    "    header = next(csvreader)\n",
    "    for row in csvreader:\n",
    "        snacks.append(row)\n",
    "file.close()\n",
    "print(snacks)\n",
    "len(snacks)\n"
   ]
  },
  {
   "cell_type": "markdown",
   "metadata": {},
   "source": [
    "<h1>Part1: Basic Concepts</h1>\n",
    "<p>Each gene will be considered as a number between 0 and 1. n-th gene correspond that we peak what ratio of n-th food and finaly Each chromosome will consist of some genes and the number of these genes will be same as number of foods or exactly number of rows in csv file<i>(exept first row)</i>.</p>"
   ]
  },
  {
   "cell_type": "markdown",
   "metadata": {},
   "source": [
    "<h1>Part2: initial Population</h1>\n",
    "<p>the <b>POPULATION_SIZE</b> variable defined to set the population size.</p>"
   ]
  },
  {
   "cell_type": "markdown",
   "metadata": {},
   "source": [
    "<h1>Part3: Fitness Function</h1>\n",
    "<p>there are 3 parameters in <b style=\"color:green\">Fractional Knapsack</b> problem that we have them as input of our issue:</p>\n",
    "<ul type=\"square\">\n",
    "    <li>MIN_VALUE</li>\n",
    "    <li>MAX_WEIGHT</li>\n",
    "    <li>SNACK_NUMBER_INTERVAL --> <i style=\"color:gray\">(SNI an abbreviation)</i></li>\n",
    "</ul>\n",
    "\n",
    "<p>for the first item, if value of chromosome was bigger equal than min_value , it gets 1 point otherwise 0.</p>\n",
    "<p>for the second item, if weight of chromosome was smaller equal than max_weight , it gets 1 point otherwise 0.</p>\n",
    "<p>finaly for third and last item, we extract the posetive and non-zero elements of each chromosome which shows how many snacks we peak.if this value was not in SNI , that chromosome gives 0 point otherwhise gives 1 point.</p>\n",
    "\n",
    "<b>at last we define the <span style=\"color:blue\">Fitness Function</span> as bellow:</b>\n",
    "\n",
    "$fitness = \\sum{C_i} $\n",
    "\n",
    "<p>C1 = chromose.value >= minValue ? 1 : 0<p>\n",
    "<p>C2 = chromose.weight <= maxWeight ? 1 : 0<p>\n",
    "<p>C3 = chromose.nonzeroElementsNumber in SNI ? 1 : 0<p>\n",
    "\n",
    "<p>with this implementation , all of our soloution chromosomes will have fitnees(chromosome) <span>=</span> 3</p>"
   ]
  },
  {
   "cell_type": "markdown",
   "metadata": {},
   "source": [
    "<h1>Part4: implementing CrossOver and Mutation Function and create next Generation</h1>\n",
    "<h2 style=\"color:blue\">CrossOver</h2>\n",
    "<p>for CrossOver function , first we generate a random number between 0 and 1. Then, for each pair of chromosomes in mating pool, if the number is more than CROSSOVER_PROBABILITY, we select the chromosomes for the next phase without any change. Otherwise, we swap the genes in the middle of two random points, between the chromosomes. In this case, we have created a pair of child chromosomes from their parents.</p>\n",
    "<h2 style=\"color:blue\">Mutation</h2>\n",
    "<p>for Mutaion function , For each gene in each chromosome of the crossover pool, we generate a random number between 0 and 1. If the number is less than MUTATION_PROBABILITY, we change the gene to a random number between 0 and 1 otherwise the gene saves its previous value.</p>"
   ]
  },
  {
   "cell_type": "markdown",
   "metadata": {},
   "source": [
    "<h1>Part5: Running algorithm</h1>\n",
    "<p>here is complete code for algorithm:</p>"
   ]
  },
  {
   "cell_type": "code",
   "execution_count": 18,
   "metadata": {},
   "outputs": [],
   "source": [
    "class Knapsack:\n",
    "    snacks_number : int\n",
    "    max_weight : int\n",
    "    gen_count : int\n",
    "    min_value : int\n",
    "    interval_begin : int\n",
    "    interval_end : int\n",
    "    population : list[list]\n",
    "\n",
    "    def __init__(self,snacks_number,max_weight,min_value,gen_count ,interval_begin , interval_end):\n",
    "        self.max_weight = max_weight\n",
    "        self.min_value = min_value\n",
    "        self.snacks_number = snacks_number\n",
    "        self.interval_begin = interval_begin\n",
    "        self.interval_end = interval_end\n",
    "        self.gen_count = gen_count\n",
    "    \n",
    "    def makeFirstPopulation(self) -> list[list]:\n",
    "        population = []\n",
    "        for _ in range(POPULATION_SIZE):\n",
    "            chromosome = [0] * self.snacks_number\n",
    "            randomInt = random.randint(self.interval_begin , self.interval_end)\n",
    "            for j in range(randomInt):\n",
    "                chromosome[j] = random.randint(0,100)/100\n",
    "            for j in range(randomInt , self.snacks_number - randomInt):\n",
    "                chromosome[j] = 0\n",
    "            random.shuffle(chromosome)\n",
    "            population.append(chromosome)\n",
    "        return population\n",
    "    \n",
    "    def find_solution(self , multi_start_count:int = 1)-> tuple[list,bool]:\n",
    "        bestsolution = None\n",
    "        for _ in range (multi_start_count):\n",
    "            self.population = self.makeFirstPopulation()\n",
    "            for _ in range (self.gen_count):\n",
    "                random.shuffle(self.population)\n",
    "\n",
    "                fitness = [self.calculate_fitness(self.population[i])for i in range(POPULATION_SIZE)]\n",
    "                if max(fitness)==3:\n",
    "                    return self.population[fitness.index(3)] , True\n",
    "                \n",
    "                bestchromosomes = [x for _ , x in sorted(zip(fitness,self.population),key=lambda pair : pair[0] , reverse= True)] \n",
    "                if bestsolution is None or self.calculate_fitness(bestsolution) < self.calculate_fitness(bestchromosomes[0]):\n",
    "                    bestsolution = bestchromosomes[0]\n",
    "                carriedChromosomes = []\n",
    "                for i in range(0,int(POPULATION_SIZE*CARRY_PERCENTAGE)):\n",
    "                    carriedChromosomes.append(bestchromosomes[i])\n",
    "\n",
    "                matingpool = self.create_mating_pool(bestchromosomes)\n",
    "                crossoverpool = self.create_crossover_pool(matingpool)\n",
    "                self.population.clear()\n",
    "\n",
    "                for i in range (POPULATION_SIZE - int(POPULATION_SIZE*CARRY_PERCENTAGE)):\n",
    "                    self.population.append(self.mutation(crossoverpool[i]))\n",
    "\n",
    "                self.population.extend(carriedChromosomes)\n",
    "        return bestsolution , False\n",
    "     \n",
    "    \n",
    "    def create_mating_pool(self,bestchromosomes:list[list]) -> list[list]:\n",
    "        ranks = list(reversed(range(1 , POPULATION_SIZE + 1)))\n",
    "        matingpool = []\n",
    "        for i in range (POPULATION_SIZE):\n",
    "            for _ in range(ranks[i]):\n",
    "                matingpool.append(bestchromosomes[i])\n",
    "        random.shuffle(matingpool)\n",
    "        return matingpool[:POPULATION_SIZE]\n",
    "    \n",
    "    \n",
    "    def create_crossover_pool(self, matingpool:list[list]) -> list[list]:\n",
    "        crossoverpool = []\n",
    "        for i in range (0 , len(matingpool)-1 , 2):\n",
    "            if random.random() > CROSSOVER_PROBABILITY:\n",
    "                crossoverpool.append(matingpool[i])\n",
    "                crossoverpool.append(matingpool[i + 1])\n",
    "            else:\n",
    "                child = self.crossover(matingpool[i],matingpool[i + 1])\n",
    "                crossoverpool.extend(child)\n",
    "        return crossoverpool\n",
    "    \n",
    "    def crossover(self, chromosome1:list,chromosome2:list) -> tuple[list,list]:\n",
    "        breakpoint_one = random.randint(0,self.snacks_number - 1)\n",
    "        breakpoint_two = random.randint(0,self.snacks_number - 1)\n",
    "        if breakpoint_one > breakpoint_two:\n",
    "            breakpoint_one , breakpoint_two = breakpoint_two , breakpoint_one\n",
    "        \n",
    "        chromosome1 = list(chromosome1)\n",
    "        chromosome2 = list(chromosome2)\n",
    "        for i in range (breakpoint_one,breakpoint_two):\n",
    "            chromosome1[i] , chromosome2[i] = chromosome2[i] , chromosome1[i]\n",
    "        return chromosome1 , chromosome2\n",
    "    \n",
    "    def mutation(self,chromosome:list) -> list:\n",
    "        chromosome = list(chromosome)\n",
    "        for i in range(len(chromosome)):\n",
    "            if random.random() < MUTATION_PROBABILITY:\n",
    "                chromosome[i] = random.randint(0,100)/100\n",
    "        return chromosome\n",
    "\n",
    "    def calculate_fitness(self,chromosome : list) -> float:\n",
    "        chromosome_weight = sum(map(lambda x : x[0]*x[1] , zip([eval(snack[1])for snack in snacks], chromosome)))\n",
    "        chromosome_value = sum(map(lambda x : x[0]*x[1] , zip([eval(snack[2])for snack in snacks], chromosome)))\n",
    "        peaked_item_number = sum(1 for gene in chromosome if gene != 0)\n",
    "        return (self.max_weight >= chromosome_weight ) + (chromosome_value  >= self.min_value) + (self.interval_begin <= peaked_item_number <= self.interval_end)\n",
    "        \n",
    "       \n",
    "\n",
    "    \n"
   ]
  },
  {
   "cell_type": "markdown",
   "metadata": {},
   "source": [
    "<h1>Part6: Questions</h1>\n",
    "<div style=\"border:2px solid gray\">\n",
    "<h1>1.What problems does a small or large primary population cause?</h1>\n",
    "<p>If the population size is very small, the algorithm may not be able to find the best solution because it may not have enough chromosomes to select from. On the other hand, if the population size is very large, the algorithm may take a long time to find the best solution and it may be unnecessary to spend that much time.</p>\n",
    "</div>\n",
    "<div style=\"border:2px solid gray\">\n",
    "<h1>2.What happens if the population size increases in each generation?</h1>\n",
    "<p>This may return better solution but increases the time complexity and the memory. Also, it is unnecessary to do this because we can remove the chromosomes with the lowest fitness from the population in order to keep the population size constant.</p></div>\n",
    "<div style=\"border:2px solid gray\">\n",
    "<h1>3.What is the effects of crossover and mutation? Is it possible to use only one of them?</h1>\n",
    "<p>Crossover is used to create new chromosomes from the existing chromosomes. Mutation is used to change the genes of the chromosomes. For examp if we use only crossover, the neightbor genes may be stay same all time. in the other side ,If we use only mutation, it can be very random to change each gene. so if we use only one of these two , we may not be able to find the best solution. It is important to note that the crossover and mutation probabilities should be chosen carefully. The crossover probability is usually at least 80% and the mutation probability is usually at most 5%.</p></div>\n",
    "<div style=\"border:2px solid gray\">\n",
    "<h1>4.how we can reach to solution faster in this special problem?</h1>\n",
    "<p>Fitness function, parameters such as the probability of crossover and mutation, and the population size should be chosen carefully. Also, the crossover and mutation functions can affect the performance of the algorithm.</p></div>\n",
    "<div style=\"border:2px solid gray\">\n",
    "<h1>5.why chromosomes don't change after a while , and how we can solve it?</h1>\n",
    "<p>A common problem in genetic algorithms is that it may stop at a local maximum instead of the global maximum. Mutation is a good way to solve this problem. Also, we can limit the number of generations in order to stop the algorithm if it is not converging. In this case, we may also use multi-start to increase the probability of finding the global maximum.</p></div>\n",
    "<div style=\"border:2px solid gray\">\n",
    "<h1>6.how we can terminate algorithm if it doesn't return an appropriate solution?</h1>\n",
    "<p>As mentioned in the previous question, we can limit the number of generations in order to stop the algorithm if there exists no solution. We can use the following formula for the generation limit:</p><div style=\"color:pink ;\">GenLimit = 2 * POPULATION_SIZE * Number_of_Snacks</div></div>\n",
    "\n",
    "<strong>Now we distinguish our parameter for problem:</strong>"
   ]
  },
  {
   "cell_type": "code",
   "execution_count": 19,
   "metadata": {},
   "outputs": [],
   "source": [
    "MAX_W = 10\n",
    "MIN_V = 12\n",
    "Int_begin = 2\n",
    "Int_end = 4\n",
    "GenCount = POPULATION_SIZE * 2 * len(snacks)"
   ]
  },
  {
   "cell_type": "markdown",
   "metadata": {},
   "source": [
    "<p>create instance using constructor and pass the parameter to it:</p>"
   ]
  },
  {
   "cell_type": "code",
   "execution_count": 20,
   "metadata": {},
   "outputs": [
    {
     "name": "stdout",
     "output_type": "stream",
     "text": [
      "0.08 0 0 0 0 0 0 0.12 0 0 0 0 0 0.77 0 0.86 0 0 0\n"
     ]
    }
   ],
   "source": [
    "knapsack = Knapsack(len(snacks),MAX_W,MIN_V,GenCount,Int_begin,Int_end)\n",
    "solution , isFind = knapsack.find_solution(1)\n",
    "if not isFind:\n",
    "    print(\"No true solution found but the best solution is: \")\n",
    "print(*solution)\n",
    "\n"
   ]
  },
  {
   "cell_type": "markdown",
   "metadata": {},
   "source": [
    "<p>at last we just should print the result as we want:<p>"
   ]
  },
  {
   "cell_type": "code",
   "execution_count": 21,
   "metadata": {},
   "outputs": [
    {
     "name": "stdout",
     "output_type": "stream",
     "text": [
      "MazMaz : 0.8\n",
      "Shokolat : 0.72\n",
      "Pastil : 2.31\n",
      "Masghati : 4.3\n",
      "Total Weight : 8.129999999999999\n",
      "Total Value : 12.190000000000001\n"
     ]
    }
   ],
   "source": [
    "indexes = [solution.index(ratio) for ratio in solution if ratio != 0]\n",
    "Total_Weight = 0\n",
    "Total_Value = 0\n",
    "\n",
    "for index in indexes:\n",
    "    Total_Value += solution[index] * eval(snacks[index][2])\n",
    "    Total_Weight += solution[index] * eval(snacks[index][1])\n",
    "\n",
    "for index in indexes:\n",
    "    print(snacks[index][0] + \" : \" + str(solution[index] * eval(snacks[index][1])))\n",
    "\n",
    "print(\"Total Weight : \" + str(Total_Weight))\n",
    "print(\"Total Value : \" + str(Total_Value))\n",
    "\n"
   ]
  }
 ],
 "metadata": {
  "kernelspec": {
   "display_name": "Python 3",
   "language": "python",
   "name": "python3"
  },
  "language_info": {
   "codemirror_mode": {
    "name": "ipython",
    "version": 3
   },
   "file_extension": ".py",
   "mimetype": "text/x-python",
   "name": "python",
   "nbconvert_exporter": "python",
   "pygments_lexer": "ipython3",
   "version": "3.12.2"
  },
  "orig_nbformat": 4
 },
 "nbformat": 4,
 "nbformat_minor": 2
}
