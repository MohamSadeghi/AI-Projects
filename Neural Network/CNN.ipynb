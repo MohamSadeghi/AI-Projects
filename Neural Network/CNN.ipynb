{
  "cells": [
    {
      "cell_type": "markdown",
      "source": [
        "# Setup environment"
      ],
      "metadata": {
        "id": "eY99YE-VG1C9"
      },
      "id": "eY99YE-VG1C9"
    },
    {
      "cell_type": "code",
      "source": [
        "pip install emoji"
      ],
      "metadata": {
        "colab": {
          "base_uri": "https://localhost:8080/"
        },
        "id": "32x1gM-S2OeG",
        "outputId": "315a5b8b-862b-4a12-a0da-eefc7b65c36b"
      },
      "id": "32x1gM-S2OeG",
      "execution_count": 1,
      "outputs": [
        {
          "output_type": "stream",
          "name": "stdout",
          "text": [
            "Collecting emoji\n",
            "  Downloading emoji-2.12.1-py3-none-any.whl (431 kB)\n",
            "\u001b[2K     \u001b[90m━━━━━━━━━━━━━━━━━━━━━━━━━━━━━━━━━━━━━━━━\u001b[0m \u001b[32m431.4/431.4 kB\u001b[0m \u001b[31m6.4 MB/s\u001b[0m eta \u001b[36m0:00:00\u001b[0m\n",
            "\u001b[?25hRequirement already satisfied: typing-extensions>=4.7.0 in /usr/local/lib/python3.10/dist-packages (from emoji) (4.11.0)\n",
            "Installing collected packages: emoji\n",
            "Successfully installed emoji-2.12.1\n"
          ]
        }
      ]
    },
    {
      "cell_type": "code",
      "execution_count": 2,
      "id": "initial_id",
      "metadata": {
        "collapsed": true,
        "id": "initial_id",
        "ExecuteTime": {
          "end_time": "2024-05-30T17:18:26.240225Z",
          "start_time": "2024-05-30T17:18:26.110790Z"
        }
      },
      "outputs": [],
      "source": [
        "import random\n",
        "\n",
        "import pandas as pd\n",
        "import torch\n",
        "from torch import nn\n",
        "from torch.utils.data import DataLoader, Dataset\n",
        "\n",
        "import gensim\n",
        "\n",
        "from sklearn.model_selection import train_test_split\n",
        "import sklearn.metrics as metrics\n",
        "import matplotlib.pyplot as plt\n",
        "import seaborn as sns\n",
        "\n",
        "import numpy as np\n",
        "from tqdm import tqdm\n",
        "import gc\n",
        "import os\n",
        "\n",
        "import ssl\n",
        "ssl._create_default_https_context = ssl._create_unverified_context"
      ]
    },
    {
      "cell_type": "markdown",
      "id": "cf946d026ed2d98e",
      "metadata": {
        "collapsed": false,
        "id": "cf946d026ed2d98e"
      },
      "source": [
        "# Config"
      ]
    },
    {
      "cell_type": "markdown",
      "id": "3e83a8b72b644c2",
      "metadata": {
        "collapsed": false,
        "id": "3e83a8b72b644c2"
      },
      "source": [
        "## Model training config"
      ]
    },
    {
      "cell_type": "code",
      "execution_count": 3,
      "id": "2d0826c5b8eb52c9",
      "metadata": {
        "id": "2d0826c5b8eb52c9",
        "ExecuteTime": {
          "end_time": "2024-05-30T15:01:10.130108Z",
          "start_time": "2024-05-30T15:01:10.124126Z"
        }
      },
      "outputs": [],
      "source": [
        "LEARNING_RATE = 4e-4\n",
        "WEIGHT_DECAY = 1e-2\n",
        "BATCH_SIZE = 64\n",
        "EPOCHS = 15\n",
        "\n",
        "SEQUENCE_LEN = 64\n",
        "CNN_FILTERS = 64"
      ]
    },
    {
      "cell_type": "code",
      "execution_count": 4,
      "id": "b1f939dd5898a0b6",
      "metadata": {
        "id": "b1f939dd5898a0b6",
        "ExecuteTime": {
          "end_time": "2024-05-30T15:01:11.784914Z",
          "start_time": "2024-05-30T15:01:11.763882Z"
        }
      },
      "outputs": [],
      "source": [
        "DEVICE = torch.device(\"cuda\" if torch.cuda.is_available() else \"cpu\")"
      ]
    },
    {
      "cell_type": "markdown",
      "id": "27110752c038c1d0",
      "metadata": {
        "collapsed": false,
        "id": "27110752c038c1d0"
      },
      "source": [
        "# Data Preparation"
      ]
    },
    {
      "cell_type": "markdown",
      "id": "32b050729991fec9",
      "metadata": {
        "collapsed": false,
        "id": "32b050729991fec9"
      },
      "source": [
        "## Load Data"
      ]
    },
    {
      "cell_type": "code",
      "execution_count": 5,
      "id": "88e92f34d72c6f62",
      "metadata": {
        "id": "88e92f34d72c6f62",
        "ExecuteTime": {
          "end_time": "2024-05-30T15:01:14.149912Z",
          "start_time": "2024-05-30T15:01:13.945005Z"
        },
        "colab": {
          "base_uri": "https://localhost:8080/"
        },
        "outputId": "ba4ff47b-68a1-4921-aa3a-51c38a35d8a0"
      },
      "outputs": [
        {
          "output_type": "stream",
          "name": "stdout",
          "text": [
            "<class 'pandas.core.frame.DataFrame'>\n",
            "RangeIndex: 9119 entries, 0 to 9118\n",
            "Data columns (total 2 columns):\n",
            " #   Column     Non-Null Count  Dtype \n",
            "---  ------     --------------  ----- \n",
            " 0   tweet      9119 non-null   object\n",
            " 1   intention  9119 non-null   int64 \n",
            "dtypes: int64(1), object(1)\n",
            "memory usage: 142.6+ KB\n"
          ]
        }
      ],
      "source": [
        "dataset = pd.read_csv(\"twitter-suicidal-data.csv\")\n",
        "dataset.info()"
      ]
    },
    {
      "cell_type": "code",
      "source": [
        "from google.colab import drive\n",
        "drive.mount('/content/drive')"
      ],
      "metadata": {
        "id": "8RXtL287wnxy",
        "colab": {
          "base_uri": "https://localhost:8080/"
        },
        "outputId": "5d7fccf5-1bb6-479d-d7c5-ccb506bdad77"
      },
      "id": "8RXtL287wnxy",
      "execution_count": 6,
      "outputs": [
        {
          "output_type": "stream",
          "name": "stdout",
          "text": [
            "Mounted at /content/drive\n"
          ]
        }
      ]
    },
    {
      "cell_type": "markdown",
      "id": "57f7552c58ea498e",
      "metadata": {
        "collapsed": false,
        "id": "57f7552c58ea498e"
      },
      "source": [
        "## Data Preprocessing"
      ]
    },
    {
      "cell_type": "code",
      "execution_count": 7,
      "id": "f16efd0184e90f40",
      "metadata": {
        "colab": {
          "base_uri": "https://localhost:8080/"
        },
        "id": "f16efd0184e90f40",
        "outputId": "c0087ad1-4ead-425d-f3b7-ec451b190c1a",
        "ExecuteTime": {
          "end_time": "2024-05-30T15:01:25.558514Z",
          "start_time": "2024-05-30T15:01:22.680311Z"
        }
      },
      "outputs": [
        {
          "output_type": "stream",
          "name": "stderr",
          "text": [
            "[nltk_data] Downloading package stopwords to /root/nltk_data...\n",
            "[nltk_data]   Unzipping corpora/stopwords.zip.\n",
            "[nltk_data] Downloading package punkt to /root/nltk_data...\n",
            "[nltk_data]   Unzipping tokenizers/punkt.zip.\n",
            "[nltk_data] Downloading package wordnet to /root/nltk_data...\n",
            "[nltk_data] Downloading package averaged_perceptron_tagger to\n",
            "[nltk_data]     /root/nltk_data...\n",
            "[nltk_data]   Unzipping taggers/averaged_perceptron_tagger.zip.\n"
          ]
        },
        {
          "output_type": "execute_result",
          "data": {
            "text/plain": [
              "True"
            ]
          },
          "metadata": {},
          "execution_count": 7
        }
      ],
      "source": [
        "import nltk\n",
        "import emoji\n",
        "import re\n",
        "\n",
        "nltk.download([\"stopwords\", \"punkt\", \"wordnet\", \"averaged_perceptron_tagger\"])"
      ]
    },
    {
      "cell_type": "code",
      "execution_count": 8,
      "id": "dbe50f445aa09ecc",
      "metadata": {
        "id": "dbe50f445aa09ecc",
        "ExecuteTime": {
          "end_time": "2024-05-30T15:27:56.911122Z",
          "start_time": "2024-05-30T15:27:56.893633Z"
        }
      },
      "outputs": [],
      "source": [
        "def convert_emoji_to_text(text):\n",
        "    return emoji.replace_emoji(text,replace= \" \")\n",
        "\n",
        "stopwords = nltk.corpus.stopwords.words(\"english\")\n",
        "lemmatizer = nltk.stem.WordNetLemmatizer()\n",
        "\n",
        "def nltk_pos_tagger(nltk_tag):\n",
        "    if nltk_tag.startswith('J'):\n",
        "        return 'a'\n",
        "    elif nltk_tag.startswith('V'):\n",
        "        return 'v'\n",
        "    elif nltk_tag.startswith('N'):\n",
        "        return 'n'\n",
        "    elif nltk_tag.startswith('R'):\n",
        "        return 'r'\n",
        "    else:\n",
        "        return 'n'\n",
        "\n",
        "def preprocess_data(text: str):\n",
        "    \"\"\"\n",
        "    Preprocessing steps are as follows:\n",
        "    1. lowercase the text\n",
        "    2. remove punctuation\n",
        "    3. remove numbers\n",
        "    4. remove urls\n",
        "    5. remove usernames\n",
        "    6. remove extra spaces\n",
        "    7. convert emojis to text\n",
        "    8. remove non-word characters\n",
        "    9. lemmatization and tokenization of the text\n",
        "    10. remove stopwords\n",
        "    :param text: str\n",
        "    :return: tokens: list[str]\n",
        "    \"\"\"\n",
        "\n",
        "    text = text.lower()\n",
        "\n",
        "    text = re.sub(r'\\d+', ' ', text)\n",
        "\n",
        "    text = re.sub(r'http\\S+|www\\S+|https\\S+', '', text)\n",
        "\n",
        "    text = re.sub(r'@\\w+', '', text)\n",
        "\n",
        "    text = re.sub(r'[^\\w\\s]', ' ', text)\n",
        "\n",
        "    text = re.sub(r'\\s+', ' ', text).strip()\n",
        "\n",
        "    text = convert_emoji_to_text(text)\n",
        "\n",
        "    tokens = nltk.word_tokenize(text)\n",
        "    pos_tags = nltk.pos_tag(tokens)\n",
        "    lemmatized_tokens = [lemmatizer.lemmatize(word, nltk_pos_tagger(tag)) for word, tag in pos_tags]\n",
        "\n",
        "    tokens = [token for token in lemmatized_tokens if token not in stopwords]\n",
        "\n",
        "    return tokens"
      ]
    },
    {
      "cell_type": "code",
      "execution_count": 9,
      "id": "11ac7d394e03d9f",
      "metadata": {
        "id": "11ac7d394e03d9f",
        "ExecuteTime": {
          "end_time": "2024-05-30T15:30:45.115329Z",
          "start_time": "2024-05-30T15:30:45.109890Z"
        },
        "outputId": "54e44399-cdaa-44e4-c3b7-0a4a64c4beba",
        "colab": {
          "base_uri": "https://localhost:8080/"
        }
      },
      "outputs": [
        {
          "output_type": "stream",
          "name": "stdout",
          "text": [
            "['hello', 'mohammad', 'year', 'old', 'happy', 'see', 'website', 'design']\n"
          ]
        }
      ],
      "source": [
        "test_str = \"Hello! i am Mohammad, i am 22 years old and i'm happy to see      you : www.Mosad.com is my webSite which designed by @David\"\n",
        "editted = preprocess_data(test_str)\n",
        "print(editted)"
      ]
    },
    {
      "cell_type": "markdown",
      "source": [
        "<h2>Lowercase</h2>\n",
        "<p>converting all words to lowercase format is common step in NLP which is usefull for simplicity and also reducing count of uniqe words.</p>\n",
        "<ul>\n",
        "    <li><b>Advantage: </b> ensures that words are treated uniformly, regardless of their original case. Also it simplifies the text by reducing the number of distinct tokens which it leads to compare and analyze become easier.</li>\n",
        "    <li><b>disAdvantage: </b>Lowercasing can cause the loss of information related to proper nouns, acronyms, and other case-sensitive data. Furthermore Certain words might have different meanings based on their case. For instance, \"May\" (the month) and \"may\" (a modal verb) are distinct in their meanings.</li>\n",
        "</ul>\n",
        "<h2>Removing Numbers</h2>\n",
        "<p>Removing numbers is generally useful for simplifying text data and focusing on its semantic content. However, the decision to remove numbers depends on our data type and the importance of numeric information within your text data.</p>\n",
        "<ul>\n",
        "    <li><b>Advantage: </b>Removing numbers can help clean the data by eliminating numeric noise, which might not be relevant for many text-based analyses.A smaller vocabulary size leads to simplified models that are easier to train and require less computational resources.</li>\n",
        "    <li><b>disAdvantage: </b>Numbers often carry significant contextual information, such as dates, quantities, prices, and measurements. Removing them can lead to a loss of important information.also it can skew the data and misrepresent the actual content, leading to potential misinterpretations or biased results.</li>\n",
        "</ul>\n",
        "<h2>Hashtag</h2>\n",
        "<p>Retaining hashtags in Twitter text analysis enables researchers, analysts, and data scientists to gain deeper insights into user-generated content, community engagement, topic trends, and sentiment dynamics on Twitter. By preserving hashtags, analysts can leverage the rich contextual information embedded within tweets, facilitating more comprehensive and accurate analyses of Twitter data.</p>"
      ],
      "metadata": {
        "collapsed": false,
        "id": "804e0486886cb10f"
      },
      "id": "804e0486886cb10f"
    },
    {
      "cell_type": "code",
      "outputs": [
        {
          "output_type": "stream",
          "name": "stdout",
          "text": [
            "no i don t want to go on firstly i want to apologize for my english skill there and every thoughti m afraid it will be a shitpost but now now my head is a mess too everything get the worst it could it is the end of the day i was online i think the whole day checking my ex s account waiting for a miracle maybe recently she showed the signs she misses me very much added my music now deleted i saw her in school yesterday eye contact first time in 3 months it was an abusive and horrible relationship for me but after a month of nocontact i still can t move on all my online actions are connected with her i m going insane it s very obsessive and and i just remembered everything everything that happened in the last 5 months i think i have two large posts about it there but it doesn t really matter now i just feel it i should go no regrets already this state of mind messywhat are the problems ok so i m 17 year old transgender female on diy hrt in a homophobic and dangerous country environment i tried i fought i remember my suicidal thoughts from the age of 10 or younger alcoholic abusive father now i m 20 days living with mom in another flat again was in my whole childhood my grandmother is kind of crazy hates my father believes in everything she had read or saw it s really insane all my childhood i was scared of all these supernatural things she told me it was about my father too he s probably bipolar incredible stress and hopelessness my brother has bipolar disorder too officially he attempted suicide 2 years ago i have just found out that my mother isn t that scary but she s very i don t know how to name it but i can tell if i couldn t do my homework because of totally messed mind crying near her one day she stabbed me with a pencil in an arm because of it if i don t do something she wants about the education she makes hell for me total restriction physical beating with everything she has in her hands it was ok but now the school year started and it begins again i can t take this pressure she says how bad and lazy i am doing nothing but i just can t i don t have any energy i m drained i m fighting in the night with the thoughts it s unbearable also now my teacher hates me and threaten me because of my hair i have to cut it off completely just shave this thing that makes me a bit happy yeah i know these problems may seem very easy and not worthing any attention but it hits me with its full strength pressure from all the sides socialization school relationships familythat s all i m so messed up i don t know what to believe what to do to relieve this emotional pain i m too anxious just to go outside i begin sweating and trembling therethe school demands incredible effort in training for exams every teacher hates me wants me to do my best i had a psychologist watching me last year my mom says what an useless shit i am everyday i have a lot of deadlines and again everybody hate me i just can t have this look because boys are not allowed to wear long hair there the individuality drives this teacher crazy and the laws are on their side i guess and i can t do anything about it i just want to stop just to stop it i want a relief i don t want to diebut now i cut literally every day wrists thighs it helps me a bit and just to think one minute about it why to hold on for what i know i will disappoint my mother she will be i don t want to think about it it makes me feel worse but tomorrow i ll be alone at home after school for 8 hours maybe it s the time to go i want to try more in this life though oh i haven t done anything i wanted recently i want to leave some track mark about me i want everybody in the school to know about my disappearance my ex will know too i don t know what pushes me the most but i guess i ll start planning soon i can t take it anymore thanks or reading this trash maybe i m in a very low state again\n",
            "['want', 'go', 'firstly', 'want', 'apologize', 'english', 'skill', 'every', 'thoughti', 'afraid', 'shitpost', 'head', 'mess', 'everything', 'get', 'bad', 'could', 'end', 'day', 'online', 'think', 'whole', 'day', 'check', 'ex', 'account', 'wait', 'miracle', 'maybe', 'recently', 'show', 'sign', 'miss', 'much', 'add', 'music', 'delete', 'saw', 'school', 'yesterday', 'eye', 'contact', 'first', 'time', 'month', 'abusive', 'horrible', 'relationship', 'month', 'nocontact', 'still', 'move', 'online', 'action', 'connect', 'go', 'insane', 'obsessive', 'remember', 'everything', 'everything', 'happen', 'last', 'month', 'think', 'two', 'large', 'post', 'really', 'matter', 'feel', 'go', 'regret', 'already', 'state', 'mind', 'messywhat', 'problem', 'ok', 'year', 'old', 'transgender', 'female', 'diy', 'hrt', 'homophobic', 'dangerous', 'country', 'environment', 'try', 'fought', 'remember', 'suicidal', 'thought', 'age', 'young', 'alcoholic', 'abusive', 'father', 'day', 'live', 'mom', 'another', 'flat', 'whole', 'childhood', 'grandmother', 'kind', 'crazy', 'hate', 'father', 'believe', 'everything', 'read', 'saw', 'really', 'insane', 'childhood', 'scar', 'supernatural', 'thing', 'tell', 'father', 'probably', 'bipolar', 'incredible', 'stress', 'hopelessness', 'brother', 'bipolar', 'disorder', 'officially', 'attempt', 'suicide', 'year', 'ago', 'find', 'mother', 'scary', 'know', 'name', 'tell', 'homework', 'totally', 'mess', 'mind', 'cry', 'near', 'one', 'day', 'stab', 'pencil', 'arm', 'something', 'want', 'education', 'make', 'hell', 'total', 'restriction', 'physical', 'beating', 'everything', 'hand', 'ok', 'school', 'year', 'start', 'begin', 'take', 'pressure', 'say', 'bad', 'lazy', 'nothing', 'energy', 'drain', 'fight', 'night', 'thought', 'unbearable', 'also', 'teacher', 'hat', 'threaten', 'hair', 'cut', 'completely', 'shave', 'thing', 'make', 'bit', 'happy', 'yeah', 'know', 'problem', 'may', 'seem', 'easy', 'worthing', 'attention', 'hit', 'full', 'strength', 'pressure', 'side', 'socialization', 'school', 'relationship', 'familythat', 'mess', 'know', 'believe', 'relieve', 'emotional', 'pain', 'anxious', 'go', 'outside', 'begin', 'sweat', 'tremble', 'therethe', 'school', 'demand', 'incredible', 'effort', 'train', 'exams', 'every', 'teacher', 'hat', 'want', 'best', 'psychologist', 'watch', 'last', 'year', 'mom', 'say', 'useless', 'shit', 'everyday', 'lot', 'deadline', 'everybody', 'hate', 'look', 'boy', 'allow', 'wear', 'long', 'hair', 'individuality', 'drive', 'teacher', 'crazy', 'law', 'side', 'guess', 'anything', 'want', 'stop', 'stop', 'want', 'relief', 'want', 'diebut', 'cut', 'literally', 'every', 'day', 'wrists', 'thighs', 'help', 'bit', 'think', 'one', 'minute', 'hold', 'know', 'disappoint', 'mother', 'want', 'think', 'make', 'feel', 'bad', 'tomorrow', 'alone', 'home', 'school', 'hour', 'maybe', 'time', 'go', 'want', 'try', 'life', 'though', 'oh', 'anything', 'want', 'recently', 'want', 'leave', 'track', 'mark', 'want', 'everybody', 'school', 'know', 'disappearance', 'ex', 'know', 'know', 'push', 'guess', 'start', 'planning', 'soon', 'take', 'anymore', 'thanks', 'read', 'trash', 'maybe', 'low', 'state']\n",
            "--------------------------------------------------------------------------\n",
            "did not that great on chem 102 final \n",
            "['great', 'chem', 'final']\n",
            "--------------------------------------------------------------------------\n",
            "i want to die alone what i honestly want is to be diagnosed with terminal cancer but not tell anyone i want to just walk into the mountains and shoot myself somewhere secluded no horrific body to clean up if the animals take care of it right nobody will really notice i will just pass out of memory as it should be \n",
            "['want', 'die', 'alone', 'honestly', 'want', 'diagnose', 'terminal', 'cancer', 'tell', 'anyone', 'want', 'walk', 'mountain', 'shoot', 'somewhere', 'seclude', 'horrific', 'body', 'clean', 'animal', 'take', 'care', 'right', 'nobody', 'really', 'notice', 'pass', 'memory']\n",
            "--------------------------------------------------------------------------\n"
          ]
        }
      ],
      "source": [
        "import random\n",
        "indexes = [random.randint(0,9118) for _ in range(3)]\n",
        "for i in indexes:\n",
        "    print(dataset[\"tweet\"][i])\n",
        "    print(preprocess_data(dataset[\"tweet\"][i]))\n",
        "    print(\"--------------------------------------------------------------------------\")"
      ],
      "metadata": {
        "ExecuteTime": {
          "end_time": "2024-05-30T17:02:33.693647Z",
          "start_time": "2024-05-30T17:02:33.676853Z"
        },
        "id": "a59c9d04487f3d8d",
        "outputId": "6fa7c63f-d4e6-47a3-9ffe-2710fa86a40f",
        "colab": {
          "base_uri": "https://localhost:8080/"
        }
      },
      "id": "a59c9d04487f3d8d",
      "execution_count": 10
    },
    {
      "cell_type": "code",
      "source": [
        "#add number of tokens for each tweet\n",
        "\n",
        "dataset[\"tokenNumber\"] = dataset[\"tweet\"].apply(lambda x : len(preprocess_data(x)))\n",
        "\n",
        "info = dataset.groupby('intention')['tokenNumber'].agg(['min', 'max', 'mean'])\n",
        "overall_info = dataset['tokenNumber'].agg(['min', 'max', 'mean'])\n",
        "\n",
        "print(\"Statistics by Label:\")\n",
        "print(info)\n",
        "print(\"\\nOverall Statistics:\")\n",
        "print(overall_info)\n",
        "\n",
        "# Create the box plot\n",
        "plt.figure(figsize=(12, 6))\n",
        "\n",
        "df_non_suicidal = dataset[dataset['intention'] == 0]\n",
        "df_suicidal = dataset[dataset['intention'] == 1]\n",
        "\n",
        "# Plotting\n",
        "fig, axes = plt.subplots(1, 2, figsize=(16, 6))\n",
        "\n",
        "# Boxplot for non-suicidal tweets\n",
        "sns.boxplot(y='tokenNumber', data=df_non_suicidal, ax=axes[0], palette='Set3')\n",
        "axes[0].set_title('Distribution of Number of Tokens in Non-Suicidal Tweets')\n",
        "axes[0].set_xlabel('Non-Suicidal (0)')\n",
        "axes[0].set_ylabel('Number of Tokens')\n",
        "\n",
        "# Boxplot for suicidal tweets\n",
        "sns.boxplot(y='tokenNumber', data=df_suicidal, ax=axes[1], palette='Set3')\n",
        "axes[1].set_title('Distribution of Number of Tokens in Suicidal Tweets')\n",
        "axes[1].set_xlabel('Suicidal (1)')\n",
        "axes[1].set_ylabel('Number of Tokens')\n",
        "\n",
        "plt.show()\n",
        "\n",
        "# Plot for the entire dataset\n",
        "plt.figure(figsize=(6, 6))\n",
        "sns.boxplot(y=dataset['tokenNumber'])\n",
        "plt.title('Distribution of Number of Tokens for the Entire Dataset')\n",
        "plt.ylabel('Number of Tokens')\n",
        "plt.show()"
      ],
      "metadata": {
        "colab": {
          "base_uri": "https://localhost:8080/",
          "height": 1000
        },
        "id": "gzcfC-C9cqeK",
        "outputId": "4e21388d-15d6-4b23-ffeb-0b1d6dcc543a"
      },
      "id": "gzcfC-C9cqeK",
      "execution_count": 19,
      "outputs": [
        {
          "output_type": "stream",
          "name": "stdout",
          "text": [
            "Statistics by Label:\n",
            "           min   max       mean\n",
            "intention                      \n",
            "0            0    38   8.972857\n",
            "1            1  2142  73.647824\n",
            "\n",
            "Overall Statistics:\n",
            "min        0.000000\n",
            "max     2142.000000\n",
            "mean      37.327996\n",
            "Name: tokenNumber, dtype: float64\n"
          ]
        },
        {
          "output_type": "stream",
          "name": "stderr",
          "text": [
            "<ipython-input-19-e0a4bf5cd3ac>:23: FutureWarning: \n",
            "\n",
            "Passing `palette` without assigning `hue` is deprecated and will be removed in v0.14.0. Assign the `x` variable to `hue` and set `legend=False` for the same effect.\n",
            "\n",
            "  sns.boxplot(y='tokenNumber', data=df_non_suicidal, ax=axes[0], palette='Set3')\n",
            "<ipython-input-19-e0a4bf5cd3ac>:29: FutureWarning: \n",
            "\n",
            "Passing `palette` without assigning `hue` is deprecated and will be removed in v0.14.0. Assign the `x` variable to `hue` and set `legend=False` for the same effect.\n",
            "\n",
            "  sns.boxplot(y='tokenNumber', data=df_suicidal, ax=axes[1], palette='Set3')\n"
          ]
        },
        {
          "output_type": "display_data",
          "data": {
            "text/plain": [
              "<Figure size 1200x600 with 0 Axes>"
            ]
          },
          "metadata": {}
        },
        {
          "output_type": "display_data",
          "data": {
            "text/plain": [
              "<Figure size 1600x600 with 2 Axes>"
            ],
            "image/png": "[encoded data removed]"
          },
          "metadata": {}
        },
        {
          "output_type": "display_data",
          "data": {
            "text/plain": [
              "<Figure size 600x600 with 1 Axes>"
            ],
            "image/png": "[encoded data removed]"
          },
          "metadata": {}
        }
      ]
    },
    {
      "cell_type": "markdown",
      "id": "2e129c7a31663741",
      "metadata": {
        "collapsed": false,
        "id": "2e129c7a31663741"
      },
      "source": [
        "# Word2Vec - Word Embedding"
      ]
    },
    {
      "cell_type": "code",
      "execution_count": 20,
      "id": "8d15b31459fd1e5",
      "metadata": {
        "colab": {
          "base_uri": "https://localhost:8080/"
        },
        "id": "8d15b31459fd1e5",
        "outputId": "889edf85-63ee-498b-a2fa-30f98df40184",
        "ExecuteTime": {
          "end_time": "2024-05-30T17:10:42.528146Z",
          "start_time": "2024-05-30T17:10:42.411446Z"
        }
      },
      "outputs": [
        {
          "output_type": "stream",
          "name": "stdout",
          "text": [
            "fasttext-wiki-news-subwords-300\n",
            "conceptnet-numberbatch-17-06-300\n",
            "word2vec-ruscorpora-300\n",
            "word2vec-google-news-300\n",
            "glove-wiki-gigaword-50\n",
            "glove-wiki-gigaword-100\n",
            "glove-wiki-gigaword-200\n",
            "glove-wiki-gigaword-300\n",
            "glove-twitter-25\n",
            "glove-twitter-50\n",
            "glove-twitter-100\n",
            "glove-twitter-200\n",
            "__testing_word2vec-matrix-synopsis\n"
          ]
        }
      ],
      "source": [
        "# print available word2vec models\n",
        "import gensim.downloader as api\n",
        "print(\"\\n\".join(api.info()['models'].keys()))"
      ]
    },
    {
      "cell_type": "code",
      "execution_count": 21,
      "id": "55bbe6faa1226b8d",
      "metadata": {
        "id": "55bbe6faa1226b8d",
        "ExecuteTime": {
          "end_time": "2024-05-30T17:04:26.139809Z",
          "start_time": "2024-05-30T17:04:26.106640Z"
        },
        "outputId": "e1871bdf-ba57-4cef-be69-0e43a5f8f571",
        "colab": {
          "base_uri": "https://localhost:8080/"
        }
      },
      "outputs": [
        {
          "output_type": "stream",
          "name": "stdout",
          "text": [
            "Downloading Word2Vec model...\n",
            "[==================================================] 100.0% 1662.8/1662.8MB downloaded\n",
            "Word2vec model is downloaded.\n"
          ]
        }
      ],
      "source": [
        "W2V_PATH = None # Path to W2V if downloaded\n",
        "if W2V_PATH is not None and os.path.exists(W2V_PATH):\n",
        "    print(\"Loading Word2Vec model...\")\n",
        "    w2v_model = gensim.models.KeyedVectors.load(W2V_PATH, mmap='r')\n",
        "    print(\"Word2Vec model is loaded.\")\n",
        "else:\n",
        "    print(\"Downloading Word2Vec model...\")\n",
        "    w2v_model = api.load(\"word2vec-google-news-300\")\n",
        "    print(\"Word2vec model is downloaded.\")\n",
        "    if W2V_PATH is not None:\n",
        "      print(\"\\nSaving Word2Vec model...\")\n",
        "      w2v_model.save(W2V_PATH)\n",
        "      print(\"Word2Vec model is saved.\")"
      ]
    },
    {
      "cell_type": "code",
      "execution_count": 22,
      "id": "7d53926889defc38",
      "metadata": {
        "id": "7d53926889defc38"
      },
      "outputs": [],
      "source": [
        "EMBEDDING_VECTOR_DIM = w2v_model.vector_size"
      ]
    },
    {
      "cell_type": "markdown",
      "source": [
        "<h2>Out Of Vocab words</h2>\n",
        "<p>for handling the tokens which are not exist in our w2v model, there are some approach to apply:</p>\n",
        "<ul>\n",
        "  <li>Ignore OOV Words</li>\n",
        "  <li>Zero Padding</li>\n",
        "  <li>Special Token</li>\n",
        "</ul>"
      ],
      "metadata": {
        "id": "BQJqGVE-I1Qb"
      },
      "id": "BQJqGVE-I1Qb"
    },
    {
      "cell_type": "markdown",
      "id": "21730f8dd01e5b4e",
      "metadata": {
        "collapsed": false,
        "id": "21730f8dd01e5b4e"
      },
      "source": [
        "# Dataset"
      ]
    },
    {
      "cell_type": "code",
      "execution_count": 42,
      "id": "xdqLYrA4xjuX",
      "metadata": {
        "id": "xdqLYrA4xjuX"
      },
      "outputs": [],
      "source": [
        "class Twitter(Dataset):\n",
        "    def __init__(self, dataframe: pd.DataFrame, w2v_model: gensim.models.KeyedVectors, sequence_len: int):\n",
        "        self.dataframe = dataframe\n",
        "        self.w2v_model = w2v_model\n",
        "        self.max_sequence_len = sequence_len\n",
        "        self.vector_size = w2v_model.vector_size\n",
        "\n",
        "        self.df_token_col = \"tokens\"\n",
        "\n",
        "\n",
        "        self._proc_dataset()\n",
        "\n",
        "        self.len = len(self.dataframe)\n",
        "\n",
        "    def __len__(self):\n",
        "        return self.len\n",
        "\n",
        "    def __getitem__(self, idx):\n",
        "        return self.dataframe.iloc[idx][\"vector\"], self.dataframe.iloc[idx][\"intention\"]\n",
        "\n",
        "    def get_vector_size(self):\n",
        "        return self.vector_size\n",
        "\n",
        "    def _proc_dataset(self):\n",
        "        # Preprocess and return tokens list\n",
        "        self.dataframe[self.df_token_col] = self.dataframe[\"tweet\"].map(preprocess_data)\n",
        "\n",
        "        # delete samples with empty tokens\n",
        "        lwz = len(self.dataframe)\n",
        "        self.dataframe = self.dataframe[self.dataframe[self.df_token_col].map(len) > 0]\n",
        "        self.dataframe.reset_index(drop=True, inplace=True)\n",
        "        print(f\"Deleted 0-Len Samples: {lwz - len(self.dataframe)}\")\n",
        "\n",
        "        # Add padding\n",
        "        self.dataframe.loc[:,self.df_token_col] = self.dataframe[self.df_token_col].map(self._pad)\n",
        "\n",
        "        # Get embedding's vectors\n",
        "        self.dataframe[\"vector\"] = self.dataframe[self.df_token_col].map(self._get_word_vectors)\n",
        "\n",
        "    def _get_word_vectors(self, tokens: list) -> torch.tensor:\n",
        "        vectors = np.zeros((self.max_sequence_len,self.vector_size))\n",
        "        for i, token in enumerate(tokens):\n",
        "          if token in self.w2v_model:\n",
        "              vectors[i] = self.w2v_model[token]\n",
        "\n",
        "        return torch.tensor(vectors.T, dtype=torch.long)\n",
        "\n",
        "    def _pad(self, tokens: list):\n",
        "        padding_len = self.max_sequence_len - len(tokens)\n",
        "        if padding_len > 0:\n",
        "            tokens.extend(['<PAD>'] * padding_len)\n",
        "        else:\n",
        "            tokens = tokens[:self.max_sequence_len]\n",
        "        return tokens\n",
        "\n",
        "    def seq_report(self):\n",
        "        length_all = self.dataframe[self.df_token_col].map(len).tolist()\n",
        "        max_length = np.max(length_all)\n",
        "        print(f\"Sequence Length Report\")\n",
        "        print(f\":::::MAX  LENGTH:::[{max_length:^5}]\")\n",
        "        print(f\":::::MIN  LENGTH:::[{np.min(length_all):^5}]\")\n",
        "        print(f\":::::MEAN LENGTH:::[{np.mean(length_all):^5}]\")\n",
        "\n",
        "        all_tokens = set()\n",
        "        for token_set in self.dataframe[self.df_token_col].tolist():\n",
        "            all_tokens = all_tokens.union(set(token_set))\n",
        "        unique_tokens_count = len(all_tokens)\n",
        "        valid_tokens = sum(1 if token in self.w2v_model else 0 for token in all_tokens)\n",
        "        print(\"Sequence Tokenization Report\")\n",
        "        print(f\":::::All Unique Tokens:::[{unique_tokens_count:^6}\")\n",
        "        print(f\":::::All Valid Tokens:::[{valid_tokens:^6}\")\n",
        "        print(f\":::::Valid Tokens:::[{round(100*valid_tokens/unique_tokens_count, 2):^5}%]\")\n",
        "\n",
        "    @staticmethod\n",
        "    def _to_tensor(tokens: list):\n",
        "        return torch.tensor(tokens, dtype=torch.float32)"
      ]
    },
    {
      "cell_type": "markdown",
      "id": "4b87e7e8b267a1c8",
      "metadata": {
        "collapsed": false,
        "id": "4b87e7e8b267a1c8"
      },
      "source": [
        "# Prepare Data"
      ]
    },
    {
      "cell_type": "markdown",
      "id": "bd00ab880892e646",
      "metadata": {
        "collapsed": false,
        "id": "bd00ab880892e646"
      },
      "source": [
        "## Split Data into train-valid"
      ]
    },
    {
      "cell_type": "code",
      "execution_count": 24,
      "id": "6a54facda2729872",
      "metadata": {
        "id": "6a54facda2729872"
      },
      "outputs": [],
      "source": [
        "train_data , test_data = train_test_split(dataset,test_size=0.2,random_state=42)"
      ]
    },
    {
      "cell_type": "code",
      "source": [
        "print(len(train_data))"
      ],
      "metadata": {
        "colab": {
          "base_uri": "https://localhost:8080/"
        },
        "id": "4m6vNDx9HkV-",
        "outputId": "8516dbf3-4264-46e8-a53e-9276aa78a7c1"
      },
      "id": "4m6vNDx9HkV-",
      "execution_count": 25,
      "outputs": [
        {
          "output_type": "stream",
          "name": "stdout",
          "text": [
            "7295\n"
          ]
        }
      ]
    },
    {
      "cell_type": "markdown",
      "id": "670fcd8db0e5651c",
      "metadata": {
        "collapsed": false,
        "id": "670fcd8db0e5651c"
      },
      "source": [
        "## Create Datasets"
      ]
    },
    {
      "cell_type": "code",
      "execution_count": 43,
      "id": "3e4a5b690afadad5",
      "metadata": {
        "id": "3e4a5b690afadad5",
        "colab": {
          "base_uri": "https://localhost:8080/"
        },
        "outputId": "a456389d-f3e7-4585-f786-66a97f4e8628"
      },
      "outputs": [
        {
          "output_type": "stream",
          "name": "stdout",
          "text": [
            "Deleted 0-Len Samples: 23\n"
          ]
        },
        {
          "output_type": "stream",
          "name": "stderr",
          "text": [
            "<ipython-input-42-21987f31553b>:38: SettingWithCopyWarning: \n",
            "A value is trying to be set on a copy of a slice from a DataFrame.\n",
            "Try using .loc[row_indexer,col_indexer] = value instead\n",
            "\n",
            "See the caveats in the documentation: https://pandas.pydata.org/pandas-docs/stable/user_guide/indexing.html#returning-a-view-versus-a-copy\n",
            "  self.dataframe[\"vector\"] = self.dataframe[self.df_token_col].map(self._get_word_vectors)\n"
          ]
        },
        {
          "output_type": "stream",
          "name": "stdout",
          "text": [
            "Deleted 0-Len Samples: 8\n",
            "Train dataset length: 7272\n",
            "Valid dataset length: 1816\n"
          ]
        },
        {
          "output_type": "stream",
          "name": "stderr",
          "text": [
            "<ipython-input-42-21987f31553b>:38: SettingWithCopyWarning: \n",
            "A value is trying to be set on a copy of a slice from a DataFrame.\n",
            "Try using .loc[row_indexer,col_indexer] = value instead\n",
            "\n",
            "See the caveats in the documentation: https://pandas.pydata.org/pandas-docs/stable/user_guide/indexing.html#returning-a-view-versus-a-copy\n",
            "  self.dataframe[\"vector\"] = self.dataframe[self.df_token_col].map(self._get_word_vectors)\n"
          ]
        }
      ],
      "source": [
        "# TODO: create twitter dataset\n",
        "train_dataset = Twitter(\n",
        "    train_data , w2v_model , 64\n",
        ")\n",
        "valid_dataset = Twitter(\n",
        "    test_data , w2v_model , 64\n",
        ")\n",
        "\n",
        "print(f\"Train dataset length: {len(train_dataset)}\")\n",
        "print(f\"Valid dataset length: {len(valid_dataset)}\")\n"
      ]
    },
    {
      "cell_type": "markdown",
      "id": "fd1da733e79676ff",
      "metadata": {
        "collapsed": false,
        "id": "fd1da733e79676ff"
      },
      "source": [
        "# Model and Train"
      ]
    },
    {
      "cell_type": "markdown",
      "id": "aa29012e257e3d9",
      "metadata": {
        "collapsed": false,
        "id": "aa29012e257e3d9"
      },
      "source": [
        "## Utils"
      ]
    },
    {
      "cell_type": "code",
      "execution_count": 44,
      "id": "d5b33657ae501516",
      "metadata": {
        "id": "d5b33657ae501516"
      },
      "outputs": [],
      "source": [
        "@torch.no_grad()\n",
        "def model_eval(model, loader, loss_function, device: str = \"auto\"):\n",
        "    \"\"\"Returns test_loss, test_acc\"\"\"\n",
        "    test_loss = 0.0\n",
        "    test_acc = 0.0\n",
        "\n",
        "    if device == \"auto\":\n",
        "        device = torch.device(\"cuda\" if torch.cuda.is_available() else \"cpu\")\n",
        "\n",
        "    model = model.to(device)\n",
        "    itr = tqdm(loader, total=len(loader), leave=False)\n",
        "\n",
        "    for inputs, labels in itr:\n",
        "        inputs = inputs.to(device)\n",
        "        labels = labels.to(device)\n",
        "\n",
        "        outputs = model(inputs)\n",
        "\n",
        "        loss = loss_function(outputs,labels)\n",
        "\n",
        "        correct = (outputs.argmax(dim=1)== labels).sum().item()\n",
        "        test_acc += correct / labels.size(0)\n",
        "        test_loss += loss.item()\n",
        "\n",
        "        itr.set_description(\"(Eval)\")\n",
        "        itr.set_postfix(\n",
        "            loss=round(loss.item(), 5),\n",
        "            accuracy=round(test_acc, 5),\n",
        "        )\n",
        "\n",
        "    return test_loss, test_acc\n"
      ]
    },
    {
      "cell_type": "code",
      "execution_count": 45,
      "id": "1bc1edee98f616b5",
      "metadata": {
        "id": "1bc1edee98f616b5"
      },
      "outputs": [],
      "source": [
        "def train_model(\n",
        "        model,\n",
        "        batch_size,\n",
        "        loss_function,\n",
        "        optimizer,\n",
        "        epochs,\n",
        "        train_set,\n",
        "        valid_set,\n",
        "        device: str = \"auto\",\n",
        "):\n",
        "\n",
        "    if device == \"auto\":\n",
        "        device = torch.device(\"cuda\" if torch.cuda.is_available() else \"cpu\")\n",
        "\n",
        "    model.to(device)\n",
        "\n",
        "    # TODO: create dataloaders from datasets\n",
        "    train_loader = DataLoader(train_set,batch_size=batch_size,shuffle=True)\n",
        "    valid_loader = DataLoader(valid_set,batch_size=batch_size)\n",
        "\n",
        "    train_losses = []\n",
        "    train_accs = []\n",
        "\n",
        "    valid_losses = []\n",
        "    valid_accs = []\n",
        "\n",
        "\n",
        "    itr = tqdm(train_loader, total=len(train_loader), leave=False)\n",
        "\n",
        "    for epoch in range(epochs):\n",
        "        model.train()\n",
        "        epoch_loss = 0\n",
        "        epoch_acc = 0\n",
        "        for idx, (inputs, labels) in enumerate(itr, start=1):\n",
        "\n",
        "            inputs, labels = inputs.to(device), labels.to(device)\n",
        "\n",
        "            optimizer.zero_grad()\n",
        "            outputs = model(inputs)\n",
        "            loss = loss_function(outputs, labels)\n",
        "            loss.backward()  #step2\n",
        "            optimizer.step() #step3\n",
        "\n",
        "            epoch_loss += loss.item()\n",
        "            correct = (outputs.argmax(dim=1) == labels).sum().item()\n",
        "            epoch_acc += correct / labels.size(0)\n",
        "\n",
        "            itr.set_description(f\"(Training) Epoch [{epoch + 1}/{epochs}]\")\n",
        "            itr.set_postfix(\n",
        "              loss=round(loss.item(), 5),\n",
        "              accuracy=round(epoch_acc, 5),\n",
        "              )\n",
        "\n",
        "        epoch_loss /= len(train_loader)\n",
        "        epoch_acc /= len(train_loader)\n",
        "        train_losses.append(epoch_loss)\n",
        "        train_accs.append(epoch_acc)\n",
        "\n",
        "        model.eval()\n",
        "        valid_loss, valid_acc = model_eval(\n",
        "            model=model,\n",
        "            loader=valid_loader,\n",
        "            loss_function=loss_function,\n",
        "            device=device\n",
        "            )\n",
        "\n",
        "        valid_losses.append(valid_loss)\n",
        "        valid_accs.append(valid_acc)\n",
        "\n",
        "    history = {\n",
        "      \"train_loss\": train_losses,\n",
        "      \"train_acc\": train_accs,\n",
        "\n",
        "      \"valid_loss\": valid_losses,\n",
        "      \"valid_acc\": valid_accs,\n",
        "    }\n",
        "    return history"
      ]
    },
    {
      "cell_type": "code",
      "execution_count": 46,
      "id": "6e5acc20a7d5d446",
      "metadata": {
        "id": "6e5acc20a7d5d446"
      },
      "outputs": [],
      "source": [
        "def trend_plot_helper(pobj):\n",
        "    plt.figure(figsize=(5*len(pobj), 5))\n",
        "    for idx, (titler, plots) in enumerate(pobj.items(), start=1):\n",
        "        plt.subplot(1, len(pobj), idx)\n",
        "        for label, trend in plots:\n",
        "            plt.plot(range(1, len(trend)+1), trend, label=label)\n",
        "        yt, xt = titler.split(' - ')\n",
        "        plt.xlabel(xt)\n",
        "        plt.ylabel(yt)\n",
        "        plt.legend()"
      ]
    },
    {
      "cell_type": "code",
      "execution_count": 47,
      "id": "819f88c36492de48",
      "metadata": {
        "id": "819f88c36492de48"
      },
      "outputs": [],
      "source": [
        "@torch.no_grad()\n",
        "def generate_confusion_matrix(model, dataset, device='auto'):\n",
        "    if device == 'auto':\n",
        "        device = torch.device(\"cuda\" if torch.cuda.is_available() else \"cpu\")\n",
        "    model = model.to(device)\n",
        "\n",
        "    loader = DataLoader(dataset, batch_size=32, shuffle=False)\n",
        "    itr = tqdm(loader, leave=False, desc=\"Generate data\")\n",
        "\n",
        "    labels = []\n",
        "    predicted = []\n",
        "\n",
        "    # Iterate through the dataset\n",
        "    for batch in itr:\n",
        "        inputs, labels = batch\n",
        "        inputs, labels = inputs.to(device), labels.to(device)\n",
        "\n",
        "        # Get predictions\n",
        "        outputs = model(inputs)\n",
        "        _, preds = torch.max(outputs, 1)\n",
        "\n",
        "        # Store labels and predictions\n",
        "        labels.extend(labels.cpu().numpy())\n",
        "        predicted.extend(preds.cpu().numpy())\n",
        "\n",
        "    # Convert lists to arrays\n",
        "    true_labels = np.array(true_labels)\n",
        "    predicted_labels = np.array(predicted_labels)\n",
        "\n",
        "    cm = metrics.confusion_matrix(\n",
        "        y_true=labels,\n",
        "        y_pred=predicted,\n",
        "    )\n",
        "\n",
        "    plt.figure(figsize=(10,10))\n",
        "    sns.heatmap(cm, cmap='Blues', annot=True, cbar=False, fmt=\".0f\",)\n",
        "    plt.xlabel('Predicted Label', labelpad=20)\n",
        "    plt.ylabel('True Label', labelpad=20)\n",
        "    plt.title('Confusion Matrix', fontsize=30)\n",
        "\n",
        "    recall = metrics.recall_score(y_true=labels, y_pred=predicted, average='macro')\n",
        "    f1 = metrics.f1_score(y_true=labels, y_pred=predicted, average='macro')\n",
        "    precision = metrics.precision_score(y_true=labels, y_pred=predicted, average='macro')\n",
        "    report = metrics.classification_report(y_true=labels, y_pred=predicted)\n",
        "\n",
        "    return {'recall': recall, 'f1': f1, 'precision': precision, 'report': report}\n"
      ]
    },
    {
      "cell_type": "markdown",
      "id": "1566b2a8428318c8",
      "metadata": {
        "collapsed": false,
        "id": "1566b2a8428318c8"
      },
      "source": [
        "## Model's Network"
      ]
    },
    {
      "cell_type": "code",
      "execution_count": 55,
      "id": "a2ed27ccf8d0307c",
      "metadata": {
        "id": "a2ed27ccf8d0307c"
      },
      "outputs": [],
      "source": [
        "import torch.nn.functional as F\n",
        "class CNN(nn.Module):\n",
        "    def __init__(self,vocab_size,embed_size,classesNumber):\n",
        "        super(CNN, self).__init__()\n",
        "\n",
        "        self.embedding = nn.Embedding(vocab_size , embed_size)\n",
        "        self.conv1 = nn.Conv1d(in_channels=embed_size , out_channels=64 ,kernel_size=5)\n",
        "        self.conv2 = nn.Conv1d(in_channels=64 , out_channels=128 ,kernel_size=3)\n",
        "        self.pool = nn.MaxPool1d(kernel_size= 2)\n",
        "        self.fc1 = nn.Linear(128*3 , 128)\n",
        "        self.fc2 = nn.Linear(128 , classesNumber)\n",
        "\n",
        "    def forward(self, x):\n",
        "        x = self.embedding(x)\n",
        "        x = x.transpose(1,2)\n",
        "        x = F.sigmoid(self.conv1(x))\n",
        "        x = F.sigmoid(self.conv2(x))\n",
        "        x = self.pool(x)\n",
        "        #Flatten\n",
        "        x = x.view(x.size(0),-1)\n",
        "        x = F.relu(self.fc1(x))\n",
        "        x = self.fc2(x)\n",
        "\n",
        "        return x"
      ]
    },
    {
      "cell_type": "markdown",
      "source": [
        "## Training"
      ],
      "metadata": {
        "id": "-XhOZ_qwF6Bh"
      },
      "id": "-XhOZ_qwF6Bh"
    },
    {
      "cell_type": "code",
      "execution_count": 58,
      "id": "76d30ba6554b6c48",
      "metadata": {
        "id": "76d30ba6554b6c48"
      },
      "outputs": [],
      "source": [
        "model = CNN(64,300,2)"
      ]
    },
    {
      "cell_type": "code",
      "execution_count": 60,
      "id": "a57ddcb0836683ec",
      "metadata": {
        "colab": {
          "base_uri": "https://localhost:8080/",
          "height": 321
        },
        "id": "a57ddcb0836683ec",
        "outputId": "23313cb3-caa8-4519-80ee-df7143ff56fc"
      },
      "outputs": [
        {
          "output_type": "stream",
          "name": "stderr",
          "text": []
        },
        {
          "output_type": "error",
          "ename": "RuntimeError",
          "evalue": "Expected 2D (unbatched) or 3D (batched) input to conv1d, but got input of size: [64, 64, 300, 300]",
          "traceback": [
            "\u001b[0;31m---------------------------------------------------------------------------\u001b[0m",
            "\u001b[0;31mRuntimeError\u001b[0m                              Traceback (most recent call last)",
            "\u001b[0;32m<ipython-input-60-c9fe8cac12e2>\u001b[0m in \u001b[0;36m<cell line: 2>\u001b[0;34m()\u001b[0m\n\u001b[1;32m      1\u001b[0m \u001b[0;32mimport\u001b[0m \u001b[0mtorch\u001b[0m\u001b[0;34m.\u001b[0m\u001b[0moptim\u001b[0m \u001b[0;32mas\u001b[0m \u001b[0moptim\u001b[0m\u001b[0;34m\u001b[0m\u001b[0;34m\u001b[0m\u001b[0m\n\u001b[0;32m----> 2\u001b[0;31m cnn_model_train_history = train_model(model = model,batch_size= BATCH_SIZE,\n\u001b[0m\u001b[1;32m      3\u001b[0m epochs= EPOCHS , train_set = train_dataset , valid_set = valid_dataset , loss_function = nn.CrossEntropyLoss(),optimizer=optim.Adam(model.parameters()))\n",
            "\u001b[0;32m<ipython-input-45-2850d967d85b>\u001b[0m in \u001b[0;36mtrain_model\u001b[0;34m(model, batch_size, loss_function, optimizer, epochs, train_set, valid_set, device)\u001b[0m\n\u001b[1;32m     37\u001b[0m \u001b[0;34m\u001b[0m\u001b[0m\n\u001b[1;32m     38\u001b[0m             \u001b[0moptimizer\u001b[0m\u001b[0;34m.\u001b[0m\u001b[0mzero_grad\u001b[0m\u001b[0;34m(\u001b[0m\u001b[0;34m)\u001b[0m\u001b[0;34m\u001b[0m\u001b[0;34m\u001b[0m\u001b[0m\n\u001b[0;32m---> 39\u001b[0;31m             \u001b[0moutputs\u001b[0m \u001b[0;34m=\u001b[0m \u001b[0mmodel\u001b[0m\u001b[0;34m(\u001b[0m\u001b[0minputs\u001b[0m\u001b[0;34m)\u001b[0m\u001b[0;34m\u001b[0m\u001b[0;34m\u001b[0m\u001b[0m\n\u001b[0m\u001b[1;32m     40\u001b[0m             \u001b[0mloss\u001b[0m \u001b[0;34m=\u001b[0m \u001b[0mloss_function\u001b[0m\u001b[0;34m(\u001b[0m\u001b[0moutputs\u001b[0m\u001b[0;34m,\u001b[0m \u001b[0mlabels\u001b[0m\u001b[0;34m)\u001b[0m\u001b[0;34m\u001b[0m\u001b[0;34m\u001b[0m\u001b[0m\n\u001b[1;32m     41\u001b[0m             \u001b[0mloss\u001b[0m\u001b[0;34m.\u001b[0m\u001b[0mbackward\u001b[0m\u001b[0;34m(\u001b[0m\u001b[0;34m)\u001b[0m  \u001b[0;31m#step2\u001b[0m\u001b[0;34m\u001b[0m\u001b[0;34m\u001b[0m\u001b[0m\n",
            "\u001b[0;32m/usr/local/lib/python3.10/dist-packages/torch/nn/modules/module.py\u001b[0m in \u001b[0;36m_wrapped_call_impl\u001b[0;34m(self, *args, **kwargs)\u001b[0m\n\u001b[1;32m   1530\u001b[0m             \u001b[0;32mreturn\u001b[0m \u001b[0mself\u001b[0m\u001b[0;34m.\u001b[0m\u001b[0m_compiled_call_impl\u001b[0m\u001b[0;34m(\u001b[0m\u001b[0;34m*\u001b[0m\u001b[0margs\u001b[0m\u001b[0;34m,\u001b[0m \u001b[0;34m**\u001b[0m\u001b[0mkwargs\u001b[0m\u001b[0;34m)\u001b[0m  \u001b[0;31m# type: ignore[misc]\u001b[0m\u001b[0;34m\u001b[0m\u001b[0;34m\u001b[0m\u001b[0m\n\u001b[1;32m   1531\u001b[0m         \u001b[0;32melse\u001b[0m\u001b[0;34m:\u001b[0m\u001b[0;34m\u001b[0m\u001b[0;34m\u001b[0m\u001b[0m\n\u001b[0;32m-> 1532\u001b[0;31m             \u001b[0;32mreturn\u001b[0m \u001b[0mself\u001b[0m\u001b[0;34m.\u001b[0m\u001b[0m_call_impl\u001b[0m\u001b[0;34m(\u001b[0m\u001b[0;34m*\u001b[0m\u001b[0margs\u001b[0m\u001b[0;34m,\u001b[0m \u001b[0;34m**\u001b[0m\u001b[0mkwargs\u001b[0m\u001b[0;34m)\u001b[0m\u001b[0;34m\u001b[0m\u001b[0;34m\u001b[0m\u001b[0m\n\u001b[0m\u001b[1;32m   1533\u001b[0m \u001b[0;34m\u001b[0m\u001b[0m\n\u001b[1;32m   1534\u001b[0m     \u001b[0;32mdef\u001b[0m \u001b[0m_call_impl\u001b[0m\u001b[0;34m(\u001b[0m\u001b[0mself\u001b[0m\u001b[0;34m,\u001b[0m \u001b[0;34m*\u001b[0m\u001b[0margs\u001b[0m\u001b[0;34m,\u001b[0m \u001b[0;34m**\u001b[0m\u001b[0mkwargs\u001b[0m\u001b[0;34m)\u001b[0m\u001b[0;34m:\u001b[0m\u001b[0;34m\u001b[0m\u001b[0;34m\u001b[0m\u001b[0m\n",
            "\u001b[0;32m/usr/local/lib/python3.10/dist-packages/torch/nn/modules/module.py\u001b[0m in \u001b[0;36m_call_impl\u001b[0;34m(self, *args, **kwargs)\u001b[0m\n\u001b[1;32m   1539\u001b[0m                 \u001b[0;32mor\u001b[0m \u001b[0m_global_backward_pre_hooks\u001b[0m \u001b[0;32mor\u001b[0m \u001b[0m_global_backward_hooks\u001b[0m\u001b[0;34m\u001b[0m\u001b[0;34m\u001b[0m\u001b[0m\n\u001b[1;32m   1540\u001b[0m                 or _global_forward_hooks or _global_forward_pre_hooks):\n\u001b[0;32m-> 1541\u001b[0;31m             \u001b[0;32mreturn\u001b[0m \u001b[0mforward_call\u001b[0m\u001b[0;34m(\u001b[0m\u001b[0;34m*\u001b[0m\u001b[0margs\u001b[0m\u001b[0;34m,\u001b[0m \u001b[0;34m**\u001b[0m\u001b[0mkwargs\u001b[0m\u001b[0;34m)\u001b[0m\u001b[0;34m\u001b[0m\u001b[0;34m\u001b[0m\u001b[0m\n\u001b[0m\u001b[1;32m   1542\u001b[0m \u001b[0;34m\u001b[0m\u001b[0m\n\u001b[1;32m   1543\u001b[0m         \u001b[0;32mtry\u001b[0m\u001b[0;34m:\u001b[0m\u001b[0;34m\u001b[0m\u001b[0;34m\u001b[0m\u001b[0m\n",
            "\u001b[0;32m<ipython-input-55-4776abb15117>\u001b[0m in \u001b[0;36mforward\u001b[0;34m(self, x)\u001b[0m\n\u001b[1;32m     14\u001b[0m         \u001b[0mx\u001b[0m \u001b[0;34m=\u001b[0m \u001b[0mself\u001b[0m\u001b[0;34m.\u001b[0m\u001b[0membedding\u001b[0m\u001b[0;34m(\u001b[0m\u001b[0mx\u001b[0m\u001b[0;34m)\u001b[0m\u001b[0;34m\u001b[0m\u001b[0;34m\u001b[0m\u001b[0m\n\u001b[1;32m     15\u001b[0m         \u001b[0mx\u001b[0m \u001b[0;34m=\u001b[0m \u001b[0mx\u001b[0m\u001b[0;34m.\u001b[0m\u001b[0mtranspose\u001b[0m\u001b[0;34m(\u001b[0m\u001b[0;36m1\u001b[0m\u001b[0;34m,\u001b[0m\u001b[0;36m2\u001b[0m\u001b[0;34m)\u001b[0m\u001b[0;34m\u001b[0m\u001b[0;34m\u001b[0m\u001b[0m\n\u001b[0;32m---> 16\u001b[0;31m         \u001b[0mx\u001b[0m \u001b[0;34m=\u001b[0m \u001b[0mF\u001b[0m\u001b[0;34m.\u001b[0m\u001b[0msigmoid\u001b[0m\u001b[0;34m(\u001b[0m\u001b[0mself\u001b[0m\u001b[0;34m.\u001b[0m\u001b[0mconv1\u001b[0m\u001b[0;34m(\u001b[0m\u001b[0mx\u001b[0m\u001b[0;34m)\u001b[0m\u001b[0;34m)\u001b[0m\u001b[0;34m\u001b[0m\u001b[0;34m\u001b[0m\u001b[0m\n\u001b[0m\u001b[1;32m     17\u001b[0m         \u001b[0mx\u001b[0m \u001b[0;34m=\u001b[0m \u001b[0mF\u001b[0m\u001b[0;34m.\u001b[0m\u001b[0msigmoid\u001b[0m\u001b[0;34m(\u001b[0m\u001b[0mself\u001b[0m\u001b[0;34m.\u001b[0m\u001b[0mconv2\u001b[0m\u001b[0;34m(\u001b[0m\u001b[0mx\u001b[0m\u001b[0;34m)\u001b[0m\u001b[0;34m)\u001b[0m\u001b[0;34m\u001b[0m\u001b[0;34m\u001b[0m\u001b[0m\n\u001b[1;32m     18\u001b[0m         \u001b[0mx\u001b[0m \u001b[0;34m=\u001b[0m \u001b[0mself\u001b[0m\u001b[0;34m.\u001b[0m\u001b[0mpool\u001b[0m\u001b[0;34m(\u001b[0m\u001b[0mx\u001b[0m\u001b[0;34m)\u001b[0m\u001b[0;34m\u001b[0m\u001b[0;34m\u001b[0m\u001b[0m\n",
            "\u001b[0;32m/usr/local/lib/python3.10/dist-packages/torch/nn/modules/module.py\u001b[0m in \u001b[0;36m_wrapped_call_impl\u001b[0;34m(self, *args, **kwargs)\u001b[0m\n\u001b[1;32m   1530\u001b[0m             \u001b[0;32mreturn\u001b[0m \u001b[0mself\u001b[0m\u001b[0;34m.\u001b[0m\u001b[0m_compiled_call_impl\u001b[0m\u001b[0;34m(\u001b[0m\u001b[0;34m*\u001b[0m\u001b[0margs\u001b[0m\u001b[0;34m,\u001b[0m \u001b[0;34m**\u001b[0m\u001b[0mkwargs\u001b[0m\u001b[0;34m)\u001b[0m  \u001b[0;31m# type: ignore[misc]\u001b[0m\u001b[0;34m\u001b[0m\u001b[0;34m\u001b[0m\u001b[0m\n\u001b[1;32m   1531\u001b[0m         \u001b[0;32melse\u001b[0m\u001b[0;34m:\u001b[0m\u001b[0;34m\u001b[0m\u001b[0;34m\u001b[0m\u001b[0m\n\u001b[0;32m-> 1532\u001b[0;31m             \u001b[0;32mreturn\u001b[0m \u001b[0mself\u001b[0m\u001b[0;34m.\u001b[0m\u001b[0m_call_impl\u001b[0m\u001b[0;34m(\u001b[0m\u001b[0;34m*\u001b[0m\u001b[0margs\u001b[0m\u001b[0;34m,\u001b[0m \u001b[0;34m**\u001b[0m\u001b[0mkwargs\u001b[0m\u001b[0;34m)\u001b[0m\u001b[0;34m\u001b[0m\u001b[0;34m\u001b[0m\u001b[0m\n\u001b[0m\u001b[1;32m   1533\u001b[0m \u001b[0;34m\u001b[0m\u001b[0m\n\u001b[1;32m   1534\u001b[0m     \u001b[0;32mdef\u001b[0m \u001b[0m_call_impl\u001b[0m\u001b[0;34m(\u001b[0m\u001b[0mself\u001b[0m\u001b[0;34m,\u001b[0m \u001b[0;34m*\u001b[0m\u001b[0margs\u001b[0m\u001b[0;34m,\u001b[0m \u001b[0;34m**\u001b[0m\u001b[0mkwargs\u001b[0m\u001b[0;34m)\u001b[0m\u001b[0;34m:\u001b[0m\u001b[0;34m\u001b[0m\u001b[0;34m\u001b[0m\u001b[0m\n",
            "\u001b[0;32m/usr/local/lib/python3.10/dist-packages/torch/nn/modules/module.py\u001b[0m in \u001b[0;36m_call_impl\u001b[0;34m(self, *args, **kwargs)\u001b[0m\n\u001b[1;32m   1539\u001b[0m                 \u001b[0;32mor\u001b[0m \u001b[0m_global_backward_pre_hooks\u001b[0m \u001b[0;32mor\u001b[0m \u001b[0m_global_backward_hooks\u001b[0m\u001b[0;34m\u001b[0m\u001b[0;34m\u001b[0m\u001b[0m\n\u001b[1;32m   1540\u001b[0m                 or _global_forward_hooks or _global_forward_pre_hooks):\n\u001b[0;32m-> 1541\u001b[0;31m             \u001b[0;32mreturn\u001b[0m \u001b[0mforward_call\u001b[0m\u001b[0;34m(\u001b[0m\u001b[0;34m*\u001b[0m\u001b[0margs\u001b[0m\u001b[0;34m,\u001b[0m \u001b[0;34m**\u001b[0m\u001b[0mkwargs\u001b[0m\u001b[0;34m)\u001b[0m\u001b[0;34m\u001b[0m\u001b[0;34m\u001b[0m\u001b[0m\n\u001b[0m\u001b[1;32m   1542\u001b[0m \u001b[0;34m\u001b[0m\u001b[0m\n\u001b[1;32m   1543\u001b[0m         \u001b[0;32mtry\u001b[0m\u001b[0;34m:\u001b[0m\u001b[0;34m\u001b[0m\u001b[0;34m\u001b[0m\u001b[0m\n",
            "\u001b[0;32m/usr/local/lib/python3.10/dist-packages/torch/nn/modules/conv.py\u001b[0m in \u001b[0;36mforward\u001b[0;34m(self, input)\u001b[0m\n\u001b[1;32m    308\u001b[0m \u001b[0;34m\u001b[0m\u001b[0m\n\u001b[1;32m    309\u001b[0m     \u001b[0;32mdef\u001b[0m \u001b[0mforward\u001b[0m\u001b[0;34m(\u001b[0m\u001b[0mself\u001b[0m\u001b[0;34m,\u001b[0m \u001b[0minput\u001b[0m\u001b[0;34m:\u001b[0m \u001b[0mTensor\u001b[0m\u001b[0;34m)\u001b[0m \u001b[0;34m->\u001b[0m \u001b[0mTensor\u001b[0m\u001b[0;34m:\u001b[0m\u001b[0;34m\u001b[0m\u001b[0;34m\u001b[0m\u001b[0m\n\u001b[0;32m--> 310\u001b[0;31m         \u001b[0;32mreturn\u001b[0m \u001b[0mself\u001b[0m\u001b[0;34m.\u001b[0m\u001b[0m_conv_forward\u001b[0m\u001b[0;34m(\u001b[0m\u001b[0minput\u001b[0m\u001b[0;34m,\u001b[0m \u001b[0mself\u001b[0m\u001b[0;34m.\u001b[0m\u001b[0mweight\u001b[0m\u001b[0;34m,\u001b[0m \u001b[0mself\u001b[0m\u001b[0;34m.\u001b[0m\u001b[0mbias\u001b[0m\u001b[0;34m)\u001b[0m\u001b[0;34m\u001b[0m\u001b[0;34m\u001b[0m\u001b[0m\n\u001b[0m\u001b[1;32m    311\u001b[0m \u001b[0;34m\u001b[0m\u001b[0m\n\u001b[1;32m    312\u001b[0m \u001b[0;34m\u001b[0m\u001b[0m\n",
            "\u001b[0;32m/usr/local/lib/python3.10/dist-packages/torch/nn/modules/conv.py\u001b[0m in \u001b[0;36m_conv_forward\u001b[0;34m(self, input, weight, bias)\u001b[0m\n\u001b[1;32m    304\u001b[0m                             \u001b[0mweight\u001b[0m\u001b[0;34m,\u001b[0m \u001b[0mbias\u001b[0m\u001b[0;34m,\u001b[0m \u001b[0mself\u001b[0m\u001b[0;34m.\u001b[0m\u001b[0mstride\u001b[0m\u001b[0;34m,\u001b[0m\u001b[0;34m\u001b[0m\u001b[0;34m\u001b[0m\u001b[0m\n\u001b[1;32m    305\u001b[0m                             _single(0), self.dilation, self.groups)\n\u001b[0;32m--> 306\u001b[0;31m         return F.conv1d(input, weight, bias, self.stride,\n\u001b[0m\u001b[1;32m    307\u001b[0m                         self.padding, self.dilation, self.groups)\n\u001b[1;32m    308\u001b[0m \u001b[0;34m\u001b[0m\u001b[0m\n",
            "\u001b[0;31mRuntimeError\u001b[0m: Expected 2D (unbatched) or 3D (batched) input to conv1d, but got input of size: [64, 64, 300, 300]"
          ]
        }
      ],
      "source": [
        "import torch.optim as optim\n",
        "cnn_model_train_history = train_model(model = model,batch_size= BATCH_SIZE,\n",
        "epochs= EPOCHS , train_set = train_dataset , valid_set = valid_dataset , loss_function = nn.CrossEntropyLoss(),optimizer=optim.Adam(model.parameters()))"
      ]
    },
    {
      "cell_type": "code",
      "execution_count": null,
      "id": "ac375ced89f224ce",
      "metadata": {
        "id": "ac375ced89f224ce"
      },
      "outputs": [],
      "source": [
        "trend_plot_helper(\n",
        "    {\n",
        "        \"Accuracy - Epoch\": [\n",
        "            (\"Train Acc\", cnn_model_train_history[\"train_acc\"]),\n",
        "            (\"Validation Acc\", cnn_model_train_history[\"valid_acc\"]),\n",
        "        ],\n",
        "        \"Loss - Epoch\": [\n",
        "            (\"Train Loss\", cnn_model_train_history[\"train_loss\"]),\n",
        "            (\"Validation Loss\", cnn_model_train_history[\"valid_loss\"])\n",
        "        ]\n",
        "    }\n",
        ")"
      ]
    },
    {
      "cell_type": "code",
      "execution_count": null,
      "id": "a09473d5783fa70f",
      "metadata": {
        "id": "a09473d5783fa70f"
      },
      "outputs": [],
      "source": [
        "cnn_model_report = generate_confusion_matrix(\n",
        "    model=cnn_model,\n",
        "    dataset=valid_dataset,\n",
        ")"
      ]
    },
    {
      "cell_type": "code",
      "execution_count": null,
      "id": "8ee01e4607601dd8",
      "metadata": {
        "id": "8ee01e4607601dd8"
      },
      "outputs": [],
      "source": [
        "print(f\"Recall:    {cnn_model_report['recall']:.3f}\")\n",
        "print(f\"F1:        {cnn_model_report['f1']:.3f}\")\n",
        "print(f\"Precision: {cnn_model_report['precision']:.3f}\")\n",
        "print(cnn_model_report['report'])"
      ]
    }
  ],
  "metadata": {
    "colab": {
      "provenance": []
    },
    "kernelspec": {
      "name": "python3",
      "display_name": "Python 3"
    },
    "language_info": {
      "codemirror_mode": {
        "name": "ipython",
        "version": 2
      },
      "file_extension": ".py",
      "mimetype": "text/x-python",
      "name": "python",
      "nbconvert_exporter": "python",
      "pygments_lexer": "ipython2",
      "version": "2.7.6"
    }
  },
  "nbformat": 4,
  "nbformat_minor": 5
}